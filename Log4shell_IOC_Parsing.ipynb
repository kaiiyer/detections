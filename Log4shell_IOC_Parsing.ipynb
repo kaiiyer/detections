{
 "cells": [
  {
   "cell_type": "markdown",
   "id": "athletic-growing",
   "metadata": {},
   "source": [
    "## PARSE Log4shell IOC\n",
    "Gives you a list of IP, Domain and Base64 strings to hunt in your environment\n",
    "\n",
    "Steps:\n",
    "1. Add the incoming scan attempt logs(e.g. http fields like uri, useragent, ip) to a file logs.txt\n",
    "2. Run the notebook to parse IOCs from Network Logs\n",
    "3. Use the list of IOCs to hunting and feeding as INTEL"
   ]
  },
  {
   "cell_type": "code",
   "execution_count": null,
   "id": "seven-edmonton",
   "metadata": {},
   "outputs": [],
   "source": [
    "import sys, re\n",
    "import requests\n",
    "import base64\n",
    "\n",
    "f = open('logs.txt','r')\n",
    "text = f.read()\n",
    "ips = []\n",
    "b64= [] \n",
    "x = []\n",
    "re_ip = re.findall(r\"\\b(?:\\d{1,3}\\.){3}\\d{1,3}\\b\",text)\n",
    "re_port = re.findall(r\"\\d{1,3}\\.\\d{1,3}\\.\\d{1,3}\\.\\d{1,3}\\:(\\d+)\",text)\n",
    "re_b64 = re.findall(r\"Base64\\/(?:[A-Za-z0-9+/]{4})*(?:[A-Za-z0-9+/]{2}==|[A-Za-z0-9+/]{3}=|[A-Za-z0-9+/]{4})\",text)\n",
    "\n",
    "print(\"Here goes the IPs\")\n",
    "if re_ip is not None:\n",
    "    for match in re_ip:\n",
    "        if match not in ips:\n",
    "            x = ips.append(match)\n",
    "            print(match)\n",
    "\n",
    "print(\"\\nHere goes the ports\")\n",
    "if re_ip is not None:\n",
    "    for match in re_port:\n",
    "        if match not in ips:\n",
    "            x = ips.append(match)\n",
    "            print(match)\n",
    "\n",
    "print(\"\\nHere goes Base64\")\n",
    "if re_b64 is not None:\n",
    "    for match in re_b64:\n",
    "        if match not in b64:\n",
    "            x = b64.append(match)\n",
    "            y = match.split('/')\n",
    "            print(\"Base64 Match found: \", y[1])\n",
    "            decoded = base64.b64decode(y[1]).decode('utf-8')\n",
    "            print(\"Decoded: \", decoded)\n"
   ]
  }
 ],
 "metadata": {
  "kernelspec": {
   "display_name": "Python 3",
   "language": "python",
   "name": "python3"
  },
  "language_info": {
   "codemirror_mode": {
    "name": "ipython",
    "version": 3
   },
   "file_extension": ".py",
   "mimetype": "text/x-python",
   "name": "python",
   "nbconvert_exporter": "python",
   "pygments_lexer": "ipython3",
   "version": "3.8.8"
  }
 },
 "nbformat": 4,
 "nbformat_minor": 5
}
